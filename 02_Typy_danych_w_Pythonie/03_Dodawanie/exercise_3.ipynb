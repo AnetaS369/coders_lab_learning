{
 "cells": [],
 "metadata": {
  "pycharm": {
   "stem_cell": {
    "cell_type": "raw",
    "source": [
     "add1 = 1\n",
     "add2 = 1.1\n",
     "sum_value = add1 + add2\n",
     "array = [add1, add2, sum_value] \n",
     "\n",
     "for var in array:\n",
     "    print(f\"Zmienna {var} typu {type(var)}\")"
    ],
    "metadata": {
     "collapsed": false
    }
   }
  }
 },
 "nbformat": 4,
 "nbformat_minor": 4
}