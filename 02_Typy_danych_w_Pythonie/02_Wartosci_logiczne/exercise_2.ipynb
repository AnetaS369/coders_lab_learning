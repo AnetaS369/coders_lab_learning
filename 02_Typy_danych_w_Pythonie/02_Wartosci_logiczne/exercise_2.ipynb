{
 "cells": [],
 "metadata": {
  "pycharm": {
   "stem_cell": {
    "cell_type": "raw",
    "source": [
     "a = 1\n",
     "b = 2\n",
     "c = a == b"
    ],
    "metadata": {
     "collapsed": false
    }
   }
  }
 },
 "nbformat": 4,
 "nbformat_minor": 4
}