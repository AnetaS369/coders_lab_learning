{
 "cells": [],
 "metadata": {
  "pycharm": {
   "stem_cell": {
    "cell_type": "raw",
    "source": [
     "a1 = None\n",
     "a2 = None\n",
     "a1 = 10\n",
     "a2 = 15\n",
     "sum_value = a1 + a2\n",
     "quotus = a2 / a1\n",
     "int_part = int(quotus)\n",
     "\n",
     "for var in [a1, a2, sum_value, quotus, int_part]:\n",
     "    print(f\"Zmienna {var} typu {type(var)}\")"
    ],
    "metadata": {
     "collapsed": false
    }
   }
  }
 },
 "nbformat": 4,
 "nbformat_minor": 4
}