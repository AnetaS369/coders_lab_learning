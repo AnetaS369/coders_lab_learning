{
 "cells": [],
 "metadata": {
  "pycharm": {
   "stem_cell": {
    "cell_type": "raw",
    "source": [
     "animals = []\n",
     "animals.append('kot')\n",
     "print(animals)\n",
     "animals.append('pies')\n",
     "print(animals)\n",
     "animals.append('mysz')\n",
     "print(animals)"
    ],
    "metadata": {
     "collapsed": false
    }
   }
  }
 },
 "nbformat": 4,
 "nbformat_minor": 4
}