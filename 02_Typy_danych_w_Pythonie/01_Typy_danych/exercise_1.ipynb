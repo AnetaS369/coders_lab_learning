{
 "cells": [],
 "metadata": {
  "pycharm": {
   "stem_cell": {
    "cell_type": "raw",
    "source": [
     "a = 1\n",
     "b = 1.2\n",
     "c = \"string\"\n",
     "d = \"\"\"\n",
     "multi line\n",
     "string\n",
     "\"\"\"\n",
     "e = 1 + 1\n",
     "\n",
     "for var in [a,b,c,d,e]:\n",
     "    print(f\"Zmienna {var} typu {type(var)}\")"
    ],
    "metadata": {
     "collapsed": false
    }
   }
  }
 },
 "nbformat": 4,
 "nbformat_minor": 4
}