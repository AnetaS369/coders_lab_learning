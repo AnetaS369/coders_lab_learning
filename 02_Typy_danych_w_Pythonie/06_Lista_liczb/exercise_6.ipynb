{
 "cells": [],
 "metadata": {
  "pycharm": {
   "stem_cell": {
    "cell_type": "raw",
    "source": [
     " a = list(range(1, 9))\n",
     " print(a[-2])"
    ],
    "metadata": {
     "collapsed": false
    }
   }
  }
 },
 "nbformat": 4,
 "nbformat_minor": 4
}