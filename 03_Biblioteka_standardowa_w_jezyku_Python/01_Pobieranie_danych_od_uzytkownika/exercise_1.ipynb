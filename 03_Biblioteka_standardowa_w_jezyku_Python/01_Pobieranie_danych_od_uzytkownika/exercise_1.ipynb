{
 "cells": [],
 "metadata": {
  "pycharm": {
   "stem_cell": {
    "cell_type": "raw",
    "source": [
     "first_name = input(\"Podaj imię:\\n\")\n",
     "last_name = input(\"Podaj nazwisko:\\n\")\n",
     "print(f\"{first_name} {last_name} jest programistą Pythona!\")\n"
    ],
    "metadata": {
     "collapsed": false
    }
   }
  }
 },
 "nbformat": 4,
 "nbformat_minor": 4
}