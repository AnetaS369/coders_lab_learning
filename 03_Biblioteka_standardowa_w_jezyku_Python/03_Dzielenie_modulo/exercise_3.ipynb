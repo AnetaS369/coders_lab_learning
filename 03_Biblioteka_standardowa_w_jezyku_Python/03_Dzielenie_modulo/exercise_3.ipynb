{
 "cells": [],
 "metadata": {
  "pycharm": {
   "stem_cell": {
    "cell_type": "raw",
    "source": [
     "a = 1\n",
     "b = 2\n",
     "modulo_result = a % b\n",
     "print(modulo_result)\n"
    ],
    "metadata": {
     "collapsed": false
    }
   }
  }
 },
 "nbformat": 4,
 "nbformat_minor": 4
}