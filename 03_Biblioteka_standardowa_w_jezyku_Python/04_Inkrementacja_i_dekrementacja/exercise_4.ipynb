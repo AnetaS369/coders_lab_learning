{
 "cells": [],
 "metadata": {
  "pycharm": {
   "stem_cell": {
    "cell_type": "raw",
    "source": [
     "counter = 145\n",
     "print(counter)\n",
     "counter += 1\n",
     "print(counter)\n",
     "counter -= 1\n",
     "print(counter)"
    ],
    "metadata": {
     "collapsed": false
    }
   }
  }
 },
 "nbformat": 4,
 "nbformat_minor": 4
}