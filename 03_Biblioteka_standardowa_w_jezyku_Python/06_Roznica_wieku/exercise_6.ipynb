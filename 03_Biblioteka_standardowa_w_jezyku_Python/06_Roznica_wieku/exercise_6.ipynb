{
 "cells": [],
 "metadata": {
  "pycharm": {
   "stem_cell": {
    "cell_type": "raw",
    "source": [
     "father = 1974\n",
     "child = 2007\n",
     "print(f\"Ojciec jest starszy od dziecka o {child - father} lat.\")\n"
    ],
    "metadata": {
     "collapsed": false
    }
   }
  }
 },
 "nbformat": 4,
 "nbformat_minor": 4
}