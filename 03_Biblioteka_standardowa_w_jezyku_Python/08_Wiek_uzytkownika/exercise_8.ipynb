{
 "cells": [],
 "metadata": {
  "pycharm": {
   "stem_cell": {
    "cell_type": "raw",
    "source": [
     "name = input(\"Jak masz na imię?\\n\")\n",
     "birth_year = int(input(\"W którym roku się urodziłeś?\\n\"))\n",
     "current_year = 2020\n",
     "age = current_year - birth_year\n",
     "print(f\"Użytkownik: {name} jest w wieku {age} lat\")"
    ],
    "metadata": {
     "collapsed": false
    }
   }
  }
 },
 "nbformat": 4,
 "nbformat_minor": 4
}