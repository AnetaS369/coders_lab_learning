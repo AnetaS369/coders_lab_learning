{
 "cells": [],
 "metadata": {
  "pycharm": {
   "stem_cell": {
    "cell_type": "raw",
    "source": [
     "first_name = input(\"Podaj pierwsze imię:\")\n",
     "second_name = input(\"Podaj drugie imię:\")\n",
     "if first_name == second_name:\n",
     "    print(\"Takie same\")\n",
     "else:\n",
     "    print(\"Różne\")"
    ],
    "metadata": {
     "collapsed": false
    }
   }
  }
 },
 "nbformat": 4,
 "nbformat_minor": 4
}