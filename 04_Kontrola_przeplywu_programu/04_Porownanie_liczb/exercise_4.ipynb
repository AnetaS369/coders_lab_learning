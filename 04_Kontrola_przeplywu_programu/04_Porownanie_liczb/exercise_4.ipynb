{
 "cells": [],
 "metadata": {
  "pycharm": {
   "stem_cell": {
    "cell_type": "raw",
    "source": [
     "a = input(\"Podaj liczbe:\\n\")\n",
     "b = input(\"Podaj drugą liczbe:\\n\")\n",
     "if a > b:\n",
     "    print(\"a jest większe\")\n",
     "elif a < b:\n",
     "    print(\"b jest większe\")\n",
     "else:\n",
     "    print(\"są równe\")"
    ],
    "metadata": {
     "collapsed": false
    }
   }
  }
 },
 "nbformat": 4,
 "nbformat_minor": 4
}