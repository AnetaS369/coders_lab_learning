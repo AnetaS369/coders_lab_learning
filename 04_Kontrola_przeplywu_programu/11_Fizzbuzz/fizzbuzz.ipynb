{
 "cells": [],
 "metadata": {
  "pycharm": {
   "stem_cell": {
    "cell_type": "raw",
    "source": [
     "for i in list(range(1,101)):\n",
     "    i = int(i)\n",
     "    if i % 3 == 0 and i % 5 == 0:\n",
     "        print(\"FizzBuzz\")\n",
     "    elif i % 5 == 0:\n",
     "        print(\"Buzz\")\n",
     "    elif i % 3 == 0:\n",
     "        print(\"Fizz\")\n",
     "    else:\n",
     "        print(i)"
    ],
    "metadata": {
     "collapsed": false
    }
   }
  }
 },
 "nbformat": 4,
 "nbformat_minor": 4
}