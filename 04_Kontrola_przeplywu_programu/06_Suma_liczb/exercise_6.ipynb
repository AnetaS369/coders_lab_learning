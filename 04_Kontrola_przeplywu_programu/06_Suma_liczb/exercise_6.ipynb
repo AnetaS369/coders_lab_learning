{
 "cells": [],
 "metadata": {
  "pycharm": {
   "stem_cell": {
    "cell_type": "raw",
    "source": [
     "# Version 1\n",
     "my_range = list(range(int(input(\"Podaj liczbe:\\n\"))))\n",
     "sum = 0\n",
     "for i in my_range:\n",
     "    sum += i\n",
     "print(f\"Suma to: {sum}\")\n",
     "\n",
     "# Version 2\n",
     "my_range = list(range(int(input(\"Podaj liczbe:\\n\"))))\n",
     "print(sum(my_range))"
    ],
    "metadata": {
     "collapsed": false
    }
   }
  }
 },
 "nbformat": 4,
 "nbformat_minor": 4
}