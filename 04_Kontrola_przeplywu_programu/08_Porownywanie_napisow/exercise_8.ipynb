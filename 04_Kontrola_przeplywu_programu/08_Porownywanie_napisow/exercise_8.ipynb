{
 "cells": [],
 "metadata": {
  "pycharm": {
   "stem_cell": {
    "cell_type": "raw",
    "source": [
     "a = \"kot\"\n",
     "b = \"pies\"\n",
     "\n",
     "a < b\n",
     "\n",
     "#  The comparison itself is done character by character. The order depends on the order of the characters in the alphabet. This order depends on the character table that is in use on your machine while executing the Python code."
    ],
    "metadata": {
     "collapsed": false
    }
   }
  }
 },
 "nbformat": 4,
 "nbformat_minor": 4
}