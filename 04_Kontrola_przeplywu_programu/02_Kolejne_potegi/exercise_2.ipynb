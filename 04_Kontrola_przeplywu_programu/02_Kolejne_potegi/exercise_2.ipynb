{
 "cells": [],
 "metadata": {
  "pycharm": {
   "stem_cell": {
    "cell_type": "raw",
    "source": [
     "for i in list(range(11)):\n",
     "    print(f\"{i} : {2**i}\")"
    ],
    "metadata": {
     "collapsed": false
    }
   }
  }
 },
 "nbformat": 4,
 "nbformat_minor": 4
}