{
 "cells": [],
 "metadata": {
  "pycharm": {
   "stem_cell": {
    "cell_type": "raw",
    "source": [
     "a = 0\n",
     "while a <= 9:\n",
     "    a += 1\n",
     "    print(\"jestem programistą Pythona\")\n"
    ],
    "metadata": {
     "collapsed": false
    }
   }
  }
 },
 "nbformat": 4,
 "nbformat_minor": 4
}