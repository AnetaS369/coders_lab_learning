{
 "cells": [],
 "metadata": {
  "pycharm": {
   "stem_cell": {
    "cell_type": "raw",
    "source": [
     "my_number = 0\n",
     "while my_number < 1 or my_number > 9:\n",
     "    my_number = int(input(\"Podaj liczbę: \"))\n",
     "    if my_number < 1 or my_number > 9:\n",
     "        print(\"Podaj liczbę w przedziale 1-9\")\n",
     "\n",
     "for i in range(1,10):\n",
     "    print(f\"{i} * {my_number} = {i * my_number}\")"
    ],
    "metadata": {
     "collapsed": false
    }
   }
  }
 },
 "nbformat": 4,
 "nbformat_minor": 4
}