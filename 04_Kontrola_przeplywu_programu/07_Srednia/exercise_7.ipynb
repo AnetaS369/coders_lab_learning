{
 "cells": [],
 "metadata": {
  "pycharm": {
   "stem_cell": {
    "cell_type": "raw",
    "source": [
     "numbers = input(\"Podaj dowolną ilość liczb oddzielonych spacją: \\n\").split()\n",
     "numbers = [ int(x) for x in numbers ]\n",
     "numbers_sum = sum(numbers)\n",
     "numbers_average = numbers_sum / len(numbers)\n",
     "\n",
     "print(f\"suma: {numbers_sum}\")\n",
     "print(f\"średnia: {numbers_average}\")\n",
     "if numbers_sum > numbers_average:\n",
     "    print(\"Suma jest większa!\")\n",
     "elif numbers_sum < numbers_average:\n",
     "    print(\"Średnia jest większa!\")\n",
     "else:\n",
     "    print(\"Są równe\")\n"
    ],
    "metadata": {
     "collapsed": false
    }
   }
  }
 },
 "nbformat": 4,
 "nbformat_minor": 4
}