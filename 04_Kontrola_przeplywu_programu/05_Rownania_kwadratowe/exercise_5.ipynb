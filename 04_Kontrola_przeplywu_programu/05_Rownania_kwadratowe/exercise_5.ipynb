{
 "cells": [],
 "metadata": {
  "pycharm": {
   "stem_cell": {
    "cell_type": "raw",
    "source": [
     "import math\n",
     "\n",
     "print(\"Równanie w postaci a*x**2 + b*x + c == 0\")\n",
     "a = float(input(\"Wartość a:\\n\"))\n",
     "b = float(input(\"Wartość b:\\n\"))\n",
     "c = float(input(\"Wartość c:\\n\"))\n",
     "\n",
     "delta = b**2 - 4 * a * c\n",
     "\n",
     "if delta > 0:\n",
     "    x_1 = (-b - math.sqrt(delta)) / (2 * a)\n",
     "    x_2 = (-b + math.sqrt(delta)) / (2 * a)\n",
     "    print(\"Pierwiastki równania kwadratowego:\")\n",
     "    print(f\"x_1 = {x_1}\")\n",
     "    print(f\"x_2 = {x_2}\")\n",
     "elif delta == 0:\n",
     "    x_1 = -b / (2 * a)\n",
     "    print(\"Pierwiastki równania kwadratowego:\")\n",
     "    print(f\"x_1 = x_2 = {x_1}\")\n",
     "else:\n",
     "    print(\"Równanie nie ma rozwiązań.\")\n"
    ],
    "metadata": {
     "collapsed": false
    }
   }
  }
 },
 "nbformat": 4,
 "nbformat_minor": 4
}