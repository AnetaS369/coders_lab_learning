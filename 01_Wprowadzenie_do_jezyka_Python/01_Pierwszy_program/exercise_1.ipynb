{
 "cells": [],
 "metadata": {
  "pycharm": {
   "stem_cell": {
    "cell_type": "raw",
    "source": [
     "print(\"Mam na imię Aneta\")"
    ],
    "metadata": {
     "collapsed": false
    }
   }
  }
 },
 "nbformat": 4,
 "nbformat_minor": 4
}