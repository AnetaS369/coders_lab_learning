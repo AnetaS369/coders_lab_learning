{
 "cells": [],
 "metadata": {
  "pycharm": {
   "stem_cell": {
    "cell_type": "raw",
    "source": [
     "In [16]: \"Hello World\"\n",
     "Out[16]: 'Hello World'\n",
     "\n",
     "In [17]: 'Hello World'\n",
     "Out[17]: 'Hello World'\n",
     "\n",
     "In [18]: 2\n",
     "Out[18]: 2\n",
     "\n",
     "In [19]: hello\n",
     "---------------------------------------------------------------------------\n",
     "NameError                                 Traceback (most recent call last)\n",
     "<ipython-input-19-f572d396fae9> in <module>\n",
     "----> 1 hello\n",
     "\n",
     "NameError: name 'hello' is not defined"
    ],
    "metadata": {
     "collapsed": false
    }
   }
  }
 },
 "nbformat": 4,
 "nbformat_minor": 4
}